{
 "cells": [
  {
   "cell_type": "markdown",
   "id": "160989c9",
   "metadata": {},
   "source": [
    "# Extracting essential information of Korean Sign Language Dataset"
   ]
  },
  {
   "cell_type": "code",
   "execution_count": 17,
   "id": "89e573a4",
   "metadata": {},
   "outputs": [],
   "source": [
    "import os\n",
    "import pandas as pd\n",
    "import numpy as np\n",
    "import matplotlib.pyplot as plt\n",
    "from glob import glob\n",
    "\n",
    "dir_data = os.path.join('/data', 'KSL')\n",
    "dir_train = os.path.join(dir_data, 'Training')\n",
    "dir_val = os.path.join(dir_data, 'Validation')"
   ]
  },
  {
   "cell_type": "code",
   "execution_count": 129,
   "id": "6586e3d4",
   "metadata": {},
   "outputs": [],
   "source": [
    "import json\n",
    "\n",
    "def get_json(path):\n",
    "    with open(path) as f:\n",
    "        json_object = json.load(f)\n",
    "        video_file_name = json_object['metaData']['name']\n",
    "        video_duration = json_object['metaData']['duration']\n",
    "        data_list = json_object['data']\n",
    "\n",
    "        return video_file_name, video_duration, data_list\n",
    "\n",
    "def get_info(path_list):\n",
    "    dic = {}\n",
    "    dic['video_name'] = []\n",
    "    dic['duration'] = []\n",
    "    dic['label'] = []\n",
    "    dic['start'] = []\n",
    "    dic['end'] = []\n",
    "    for path in path_list:\n",
    "        name, duration, data_list = get_json(path)\n",
    "\n",
    "        for data in data_list:\n",
    "            attri = data['attributes']\n",
    "            if len(attri) > 1:\n",
    "                print(path)\n",
    "\n",
    "            for att in attri:\n",
    "                dic['video_name'].append(name)\n",
    "                dic['duration'].append(duration)\n",
    "                dic['label'].append(att['name'])\n",
    "                dic['start'].append(data['start'])\n",
    "                dic['end'].append(data['end'])\n",
    "                \n",
    "    return dic"
   ]
  },
  {
   "cell_type": "markdown",
   "id": "e4113e2a",
   "metadata": {},
   "source": [
    "# Morpheme"
   ]
  },
  {
   "cell_type": "markdown",
   "id": "12425cf0",
   "metadata": {},
   "source": [
    "## Make 'csv file' for detail information about the morpheme data"
   ]
  },
  {
   "cell_type": "code",
   "execution_count": 128,
   "id": "ce5a01d8",
   "metadata": {},
   "outputs": [],
   "source": [
    "dir_train_mor_label = os.path.join(dir_train, 'morpheme', '*')\n",
    "train_label_mor = glob(os.path.join(dir_train_mor_label, '*_morpheme.json'))\n",
    "\n",
    "dir_val_mor_label = os.path.join(dir_val, 'morpheme', '*')\n",
    "val_label_mor = glob(os.path.join(dir_val_mor_label, '*_morpheme.json'))"
   ]
  },
  {
   "cell_type": "code",
   "execution_count": 130,
   "id": "2c951604",
   "metadata": {},
   "outputs": [],
   "source": [
    "dic_train = get_info(train_label_mor)\n",
    "dic_val = get_info(val_label_mor)"
   ]
  },
  {
   "cell_type": "code",
   "execution_count": 131,
   "id": "6308f651",
   "metadata": {},
   "outputs": [],
   "source": [
    "df_train = pd.DataFrame(dic_train)\n",
    "df_val = pd.DataFrame(dic_val)"
   ]
  },
  {
   "cell_type": "code",
   "execution_count": 132,
   "id": "9850ac85",
   "metadata": {},
   "outputs": [],
   "source": [
    "df_train.to_csv('info_morpheme_train.csv', index=False)\n",
    "df_val.to_csv('info_morpheme_val.csv', index=False)"
   ]
  },
  {
   "cell_type": "markdown",
   "id": "35c54eb0",
   "metadata": {},
   "source": []
  }
 ],
 "metadata": {
  "kernelspec": {
   "display_name": "sign",
   "language": "python",
   "name": "sign"
  },
  "language_info": {
   "codemirror_mode": {
    "name": "ipython",
    "version": 3
   },
   "file_extension": ".py",
   "mimetype": "text/x-python",
   "name": "python",
   "nbconvert_exporter": "python",
   "pygments_lexer": "ipython3",
   "version": "3.8.16"
  }
 },
 "nbformat": 4,
 "nbformat_minor": 5
}
